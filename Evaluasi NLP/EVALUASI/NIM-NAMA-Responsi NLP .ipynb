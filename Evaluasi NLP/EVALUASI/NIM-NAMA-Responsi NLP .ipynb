{
 "cells": [
  {
   "cell_type": "markdown",
   "id": "f42342b1",
   "metadata": {},
   "source": [
    "#Evaluasi CPMK 1 dan  "
   ]
  },
  {
   "cell_type": "markdown",
   "id": "7477c004",
   "metadata": {},
   "source": [
    "# Soal 1"
   ]
  },
  {
   "attachments": {},
   "cell_type": "markdown",
   "id": "f362331b",
   "metadata": {},
   "source": [
    "<br>1.CPMK1- Sub CPMK1.1( bobot : 10 )\n",
    "<br>Lakukan crawling data teks dari media sosial/ web dan simpan hasilnya dalam bentuk excel/csv.\n",
    "<br>Setiap mahasiswa harus melakukan crawling dengan kata kunci tertentu.\n",
    "<br>Kata kunci tidak boleh sama dengan mahasiswa lainnya. "
   ]
  },
  {
   "cell_type": "code",
   "execution_count": 1,
   "id": "ef3070b0",
   "metadata": {},
   "outputs": [],
   "source": [
    "#JAwaban"
   ]
  },
  {
   "cell_type": "markdown",
   "id": "5e1ab301",
   "metadata": {},
   "source": [
    "# Soal 2"
   ]
  },
  {
   "cell_type": "markdown",
   "id": "b1335850",
   "metadata": {},
   "source": [
    "<br>Lakukan pembersihan meliputi penghapusan punctuation, angka dan karakter yang tidak penting menggunakan menggunakan regex.\n",
    "<br>Simpan hasilnya menjadi file csv/excel.\n"
   ]
  },
  {
   "cell_type": "code",
   "execution_count": 2,
   "id": "0735d487",
   "metadata": {},
   "outputs": [],
   "source": [
    "#Jawaban"
   ]
  },
  {
   "cell_type": "markdown",
   "id": "b5935b39",
   "metadata": {},
   "source": [
    "# Soal 3a"
   ]
  },
  {
   "cell_type": "markdown",
   "id": "3511c137",
   "metadata": {},
   "source": [
    "a.\tLakukan parsing dan simpan hasilnya dalam bentuk excel/csv (bobot:10)"
   ]
  },
  {
   "cell_type": "code",
   "execution_count": 3,
   "id": "c8e32db7",
   "metadata": {},
   "outputs": [],
   "source": [
    "#Jawaban"
   ]
  },
  {
   "cell_type": "markdown",
   "id": "520fcef0",
   "metadata": {},
   "source": [
    "# Soal 3b"
   ]
  },
  {
   "attachments": {},
   "cell_type": "markdown",
   "id": "5c2d0c1e",
   "metadata": {},
   "source": [
    "b.Carilah kata-kata slangword yang ada dalam dataset Anda, dengan cara mencocokan dengan kamus KBBI (terlampir). \n",
    "<br>Simpan hasilnya dalam bentuk csv/excel.\n",
    "<br> Tampilkan 100 kata slang yang Anda dapatkan dan tampilkan dalam bentuk Gunakan (bobot:25)"
   ]
  },
  {
   "cell_type": "code",
   "execution_count": null,
   "id": "d7d3939b",
   "metadata": {},
   "outputs": [],
   "source": [
    "#Jawaban"
   ]
  },
  {
   "cell_type": "markdown",
   "id": "9562cecb",
   "metadata": {},
   "source": [
    "# Soal 3c"
   ]
  },
  {
   "attachments": {},
   "cell_type": "markdown",
   "id": "544d5476",
   "metadata": {},
   "source": [
    "c.Lakukan tokenizing berdasarkan  hasil 3b, simpan hasilnya dalam bentuk csv/excel  dan tampilkan 100 token pertama. (bobot:10)"
   ]
  },
  {
   "cell_type": "code",
   "execution_count": null,
   "id": "6298826e",
   "metadata": {},
   "outputs": [],
   "source": [
    "#Jawaban"
   ]
  },
  {
   "cell_type": "markdown",
   "id": "015b05cc",
   "metadata": {},
   "source": [
    "# Soal 3d"
   ]
  },
  {
   "attachments": {},
   "cell_type": "markdown",
   "id": "f95f7e6f",
   "metadata": {},
   "source": [
    "d.Lakukan stopword removing  berdasarkan hasil 3c, simpan hasilnya dalam bentuk csv/excel. (bobot:10)!"
   ]
  },
  {
   "cell_type": "code",
   "execution_count": 5,
   "id": "208095b5",
   "metadata": {},
   "outputs": [],
   "source": [
    "#Jawaban"
   ]
  },
  {
   "cell_type": "markdown",
   "id": "fc76bb46",
   "metadata": {},
   "source": [
    "# Soal 3e"
   ]
  },
  {
   "cell_type": "markdown",
   "id": "c03bd8b5",
   "metadata": {},
   "source": [
    "e.Lakukan stemming berdasarkan hasil 3d dan tampilkan 100 stem pertama. (bobot:10)"
   ]
  },
  {
   "cell_type": "code",
   "execution_count": 6,
   "id": "cf252696",
   "metadata": {},
   "outputs": [],
   "source": [
    "#Jawaban"
   ]
  },
  {
   "cell_type": "code",
   "execution_count": null,
   "id": "b455c5ab",
   "metadata": {},
   "outputs": [],
   "source": []
  }
 ],
 "metadata": {
  "kernelspec": {
   "display_name": "Python 3 (ipykernel)",
   "language": "python",
   "name": "python3"
  },
  "language_info": {
   "codemirror_mode": {
    "name": "ipython",
    "version": 3
   },
   "file_extension": ".py",
   "mimetype": "text/x-python",
   "name": "python",
   "nbconvert_exporter": "python",
   "pygments_lexer": "ipython3",
   "version": "3.9.7"
  }
 },
 "nbformat": 4,
 "nbformat_minor": 5
}
