{
  "nbformat": 4,
  "nbformat_minor": 0,
  "metadata": {
    "colab": {
      "provenance": [],
      "gpuType": "T4"
    },
    "kernelspec": {
      "name": "python3",
      "display_name": "Python 3"
    },
    "language_info": {
      "name": "python"
    },
    "accelerator": "GPU"
  },
  "cells": [
    {
      "cell_type": "markdown",
      "source": [
        "#RESPONSI UAS NLP"
      ],
      "metadata": {
        "id": "WdtnKfGVY3j3"
      }
    },
    {
      "cell_type": "markdown",
      "source": [
        "GAYUH FIKRI KHUSNAELI\n",
        "\n",
        "21110024\n",
        "\n",
        "SD 02 A"
      ],
      "metadata": {
        "id": "p_FXkcHNY0IN"
      }
    },
    {
      "cell_type": "code",
      "execution_count": 1,
      "metadata": {
        "id": "k9eEhDHmYV_U"
      },
      "outputs": [],
      "source": [
        "import pandas as pd\n",
        "import io\n",
        "import random\n",
        "import string\n",
        "import warnings\n",
        "import numpy as np\n",
        "from sklearn.feature_extraction.text import TfidfVectorizer\n",
        "from sklearn.metrics.pairwise import cosine_similarity\n",
        "import warnings\n",
        "warnings.filterwarnings('ignore')"
      ]
    },
    {
      "cell_type": "code",
      "source": [
        "import nltk #impor library NLTK\n",
        "from nltk.stem import WordNetLemmatizer #import library untuk lemmatization\n",
        "nltk.download('popular', quiet=True) # for downloading packages\n",
        "#nltk.download('punkt') # first-time use only\n",
        "#nltk.download('wordnet') # first-time use only"
      ],
      "metadata": {
        "colab": {
          "base_uri": "https://localhost:8080/"
        },
        "id": "R21rq0eeYoWp",
        "outputId": "728bc5b9-1fd5-4b60-ed0b-763f5eaf6b7f"
      },
      "execution_count": 2,
      "outputs": [
        {
          "output_type": "execute_result",
          "data": {
            "text/plain": [
              "True"
            ]
          },
          "metadata": {},
          "execution_count": 2
        }
      ]
    },
    {
      "cell_type": "code",
      "source": [
        "df=pd.read_csv(\"/content/dataset_mentalhealth.csv\")\n",
        "df.info()"
      ],
      "metadata": {
        "colab": {
          "base_uri": "https://localhost:8080/"
        },
        "id": "cB2VKj9vY2hD",
        "outputId": "1b57c231-9f13-4760-ada6-e2d933916878"
      },
      "execution_count": 3,
      "outputs": [
        {
          "output_type": "stream",
          "name": "stdout",
          "text": [
            "<class 'pandas.core.frame.DataFrame'>\n",
            "RangeIndex: 98 entries, 0 to 97\n",
            "Data columns (total 3 columns):\n",
            " #   Column       Non-Null Count  Dtype \n",
            "---  ------       --------------  ----- \n",
            " 0   Question_ID  98 non-null     int64 \n",
            " 1   Questions    98 non-null     object\n",
            " 2   Jawaban      98 non-null     object\n",
            "dtypes: int64(1), object(2)\n",
            "memory usage: 2.4+ KB\n"
          ]
        }
      ]
    },
    {
      "cell_type": "code",
      "source": [
        "df"
      ],
      "metadata": {
        "colab": {
          "base_uri": "https://localhost:8080/",
          "height": 423
        },
        "id": "amynIvqxZIu7",
        "outputId": "8a8774d6-5c93-490f-93b9-3550e8fea145"
      },
      "execution_count": 6,
      "outputs": [
        {
          "output_type": "execute_result",
          "data": {
            "text/plain": [
              "    Question_ID                                          Questions  \\\n",
              "0       1590140          Apa yang dimaksud dengan penyakit mental?   \n",
              "1       2110618       Siapa yang terpengaruh oleh penyakit mental?   \n",
              "2       6361820                      Apa penyebab penyakit mental?   \n",
              "3       9434130  Apa sajakah tanda-tanda peringatan penyakit me...   \n",
              "4       7657263        Apakah penderita penyakit jiwa bisa sembuh?   \n",
              "..          ...                                                ...   \n",
              "93      4373204  Bagaimana saya tahu kalau saya minum terlalu b...   \n",
              "94      7807643  Jika ganja berbahaya, mengapa kita melegalkannya?   \n",
              "95      4352464  Bagaimana cara meyakinkan anak saya untuk tida...   \n",
              "96      6521784           Apa status hukum (dan bukti) minyak CBD?   \n",
              "97      3221856                       Apa buktinya tentang vaping?   \n",
              "\n",
              "                                              Jawaban  \n",
              "0   Penyakit mental adalah kondisi kesehatan yang ...  \n",
              "1   Diperkirakan bahwa penyakit mental mempengaruh...  \n",
              "2   Diperkirakan bahwa penyakit mental mempengaruh...  \n",
              "3   Gejala gangguan kesehatan mental bervariasi te...  \n",
              "4   Ketika penyembuhan dari penyakit mental, ident...  \n",
              "..                                                ...  \n",
              "93  Menyortir jika Anda minum terlalu banyak bisa ...  \n",
              "94  Asap ganja, misalnya, mengandung racun penyeba...  \n",
              "95  Anda tidak bisa. Tetapi Anda dapat mempengaruh...  \n",
              "96  Cannabidiol atau CBD adalah komponen ganja yan...  \n",
              "97  \"Vaping\" adalah istilah untuk menggunakan pera...  \n",
              "\n",
              "[98 rows x 3 columns]"
            ],
            "text/html": [
              "\n",
              "  <div id=\"df-1eb8dbc5-c6e2-4728-ad43-a564dabe791e\" class=\"colab-df-container\">\n",
              "    <div>\n",
              "<style scoped>\n",
              "    .dataframe tbody tr th:only-of-type {\n",
              "        vertical-align: middle;\n",
              "    }\n",
              "\n",
              "    .dataframe tbody tr th {\n",
              "        vertical-align: top;\n",
              "    }\n",
              "\n",
              "    .dataframe thead th {\n",
              "        text-align: right;\n",
              "    }\n",
              "</style>\n",
              "<table border=\"1\" class=\"dataframe\">\n",
              "  <thead>\n",
              "    <tr style=\"text-align: right;\">\n",
              "      <th></th>\n",
              "      <th>Question_ID</th>\n",
              "      <th>Questions</th>\n",
              "      <th>Jawaban</th>\n",
              "    </tr>\n",
              "  </thead>\n",
              "  <tbody>\n",
              "    <tr>\n",
              "      <th>0</th>\n",
              "      <td>1590140</td>\n",
              "      <td>Apa yang dimaksud dengan penyakit mental?</td>\n",
              "      <td>Penyakit mental adalah kondisi kesehatan yang ...</td>\n",
              "    </tr>\n",
              "    <tr>\n",
              "      <th>1</th>\n",
              "      <td>2110618</td>\n",
              "      <td>Siapa yang terpengaruh oleh penyakit mental?</td>\n",
              "      <td>Diperkirakan bahwa penyakit mental mempengaruh...</td>\n",
              "    </tr>\n",
              "    <tr>\n",
              "      <th>2</th>\n",
              "      <td>6361820</td>\n",
              "      <td>Apa penyebab penyakit mental?</td>\n",
              "      <td>Diperkirakan bahwa penyakit mental mempengaruh...</td>\n",
              "    </tr>\n",
              "    <tr>\n",
              "      <th>3</th>\n",
              "      <td>9434130</td>\n",
              "      <td>Apa sajakah tanda-tanda peringatan penyakit me...</td>\n",
              "      <td>Gejala gangguan kesehatan mental bervariasi te...</td>\n",
              "    </tr>\n",
              "    <tr>\n",
              "      <th>4</th>\n",
              "      <td>7657263</td>\n",
              "      <td>Apakah penderita penyakit jiwa bisa sembuh?</td>\n",
              "      <td>Ketika penyembuhan dari penyakit mental, ident...</td>\n",
              "    </tr>\n",
              "    <tr>\n",
              "      <th>...</th>\n",
              "      <td>...</td>\n",
              "      <td>...</td>\n",
              "      <td>...</td>\n",
              "    </tr>\n",
              "    <tr>\n",
              "      <th>93</th>\n",
              "      <td>4373204</td>\n",
              "      <td>Bagaimana saya tahu kalau saya minum terlalu b...</td>\n",
              "      <td>Menyortir jika Anda minum terlalu banyak bisa ...</td>\n",
              "    </tr>\n",
              "    <tr>\n",
              "      <th>94</th>\n",
              "      <td>7807643</td>\n",
              "      <td>Jika ganja berbahaya, mengapa kita melegalkannya?</td>\n",
              "      <td>Asap ganja, misalnya, mengandung racun penyeba...</td>\n",
              "    </tr>\n",
              "    <tr>\n",
              "      <th>95</th>\n",
              "      <td>4352464</td>\n",
              "      <td>Bagaimana cara meyakinkan anak saya untuk tida...</td>\n",
              "      <td>Anda tidak bisa. Tetapi Anda dapat mempengaruh...</td>\n",
              "    </tr>\n",
              "    <tr>\n",
              "      <th>96</th>\n",
              "      <td>6521784</td>\n",
              "      <td>Apa status hukum (dan bukti) minyak CBD?</td>\n",
              "      <td>Cannabidiol atau CBD adalah komponen ganja yan...</td>\n",
              "    </tr>\n",
              "    <tr>\n",
              "      <th>97</th>\n",
              "      <td>3221856</td>\n",
              "      <td>Apa buktinya tentang vaping?</td>\n",
              "      <td>\"Vaping\" adalah istilah untuk menggunakan pera...</td>\n",
              "    </tr>\n",
              "  </tbody>\n",
              "</table>\n",
              "<p>98 rows × 3 columns</p>\n",
              "</div>\n",
              "    <div class=\"colab-df-buttons\">\n",
              "\n",
              "  <div class=\"colab-df-container\">\n",
              "    <button class=\"colab-df-convert\" onclick=\"convertToInteractive('df-1eb8dbc5-c6e2-4728-ad43-a564dabe791e')\"\n",
              "            title=\"Convert this dataframe to an interactive table.\"\n",
              "            style=\"display:none;\">\n",
              "\n",
              "  <svg xmlns=\"http://www.w3.org/2000/svg\" height=\"24px\" viewBox=\"0 -960 960 960\">\n",
              "    <path d=\"M120-120v-720h720v720H120Zm60-500h600v-160H180v160Zm220 220h160v-160H400v160Zm0 220h160v-160H400v160ZM180-400h160v-160H180v160Zm440 0h160v-160H620v160ZM180-180h160v-160H180v160Zm440 0h160v-160H620v160Z\"/>\n",
              "  </svg>\n",
              "    </button>\n",
              "\n",
              "  <style>\n",
              "    .colab-df-container {\n",
              "      display:flex;\n",
              "      gap: 12px;\n",
              "    }\n",
              "\n",
              "    .colab-df-convert {\n",
              "      background-color: #E8F0FE;\n",
              "      border: none;\n",
              "      border-radius: 50%;\n",
              "      cursor: pointer;\n",
              "      display: none;\n",
              "      fill: #1967D2;\n",
              "      height: 32px;\n",
              "      padding: 0 0 0 0;\n",
              "      width: 32px;\n",
              "    }\n",
              "\n",
              "    .colab-df-convert:hover {\n",
              "      background-color: #E2EBFA;\n",
              "      box-shadow: 0px 1px 2px rgba(60, 64, 67, 0.3), 0px 1px 3px 1px rgba(60, 64, 67, 0.15);\n",
              "      fill: #174EA6;\n",
              "    }\n",
              "\n",
              "    .colab-df-buttons div {\n",
              "      margin-bottom: 4px;\n",
              "    }\n",
              "\n",
              "    [theme=dark] .colab-df-convert {\n",
              "      background-color: #3B4455;\n",
              "      fill: #D2E3FC;\n",
              "    }\n",
              "\n",
              "    [theme=dark] .colab-df-convert:hover {\n",
              "      background-color: #434B5C;\n",
              "      box-shadow: 0px 1px 3px 1px rgba(0, 0, 0, 0.15);\n",
              "      filter: drop-shadow(0px 1px 2px rgba(0, 0, 0, 0.3));\n",
              "      fill: #FFFFFF;\n",
              "    }\n",
              "  </style>\n",
              "\n",
              "    <script>\n",
              "      const buttonEl =\n",
              "        document.querySelector('#df-1eb8dbc5-c6e2-4728-ad43-a564dabe791e button.colab-df-convert');\n",
              "      buttonEl.style.display =\n",
              "        google.colab.kernel.accessAllowed ? 'block' : 'none';\n",
              "\n",
              "      async function convertToInteractive(key) {\n",
              "        const element = document.querySelector('#df-1eb8dbc5-c6e2-4728-ad43-a564dabe791e');\n",
              "        const dataTable =\n",
              "          await google.colab.kernel.invokeFunction('convertToInteractive',\n",
              "                                                    [key], {});\n",
              "        if (!dataTable) return;\n",
              "\n",
              "        const docLinkHtml = 'Like what you see? Visit the ' +\n",
              "          '<a target=\"_blank\" href=https://colab.research.google.com/notebooks/data_table.ipynb>data table notebook</a>'\n",
              "          + ' to learn more about interactive tables.';\n",
              "        element.innerHTML = '';\n",
              "        dataTable['output_type'] = 'display_data';\n",
              "        await google.colab.output.renderOutput(dataTable, element);\n",
              "        const docLink = document.createElement('div');\n",
              "        docLink.innerHTML = docLinkHtml;\n",
              "        element.appendChild(docLink);\n",
              "      }\n",
              "    </script>\n",
              "  </div>\n",
              "\n",
              "\n",
              "<div id=\"df-d22f2ac8-5f95-433b-8da7-87de6e520769\">\n",
              "  <button class=\"colab-df-quickchart\" onclick=\"quickchart('df-d22f2ac8-5f95-433b-8da7-87de6e520769')\"\n",
              "            title=\"Suggest charts\"\n",
              "            style=\"display:none;\">\n",
              "\n",
              "<svg xmlns=\"http://www.w3.org/2000/svg\" height=\"24px\"viewBox=\"0 0 24 24\"\n",
              "     width=\"24px\">\n",
              "    <g>\n",
              "        <path d=\"M19 3H5c-1.1 0-2 .9-2 2v14c0 1.1.9 2 2 2h14c1.1 0 2-.9 2-2V5c0-1.1-.9-2-2-2zM9 17H7v-7h2v7zm4 0h-2V7h2v10zm4 0h-2v-4h2v4z\"/>\n",
              "    </g>\n",
              "</svg>\n",
              "  </button>\n",
              "\n",
              "<style>\n",
              "  .colab-df-quickchart {\n",
              "      --bg-color: #E8F0FE;\n",
              "      --fill-color: #1967D2;\n",
              "      --hover-bg-color: #E2EBFA;\n",
              "      --hover-fill-color: #174EA6;\n",
              "      --disabled-fill-color: #AAA;\n",
              "      --disabled-bg-color: #DDD;\n",
              "  }\n",
              "\n",
              "  [theme=dark] .colab-df-quickchart {\n",
              "      --bg-color: #3B4455;\n",
              "      --fill-color: #D2E3FC;\n",
              "      --hover-bg-color: #434B5C;\n",
              "      --hover-fill-color: #FFFFFF;\n",
              "      --disabled-bg-color: #3B4455;\n",
              "      --disabled-fill-color: #666;\n",
              "  }\n",
              "\n",
              "  .colab-df-quickchart {\n",
              "    background-color: var(--bg-color);\n",
              "    border: none;\n",
              "    border-radius: 50%;\n",
              "    cursor: pointer;\n",
              "    display: none;\n",
              "    fill: var(--fill-color);\n",
              "    height: 32px;\n",
              "    padding: 0;\n",
              "    width: 32px;\n",
              "  }\n",
              "\n",
              "  .colab-df-quickchart:hover {\n",
              "    background-color: var(--hover-bg-color);\n",
              "    box-shadow: 0 1px 2px rgba(60, 64, 67, 0.3), 0 1px 3px 1px rgba(60, 64, 67, 0.15);\n",
              "    fill: var(--button-hover-fill-color);\n",
              "  }\n",
              "\n",
              "  .colab-df-quickchart-complete:disabled,\n",
              "  .colab-df-quickchart-complete:disabled:hover {\n",
              "    background-color: var(--disabled-bg-color);\n",
              "    fill: var(--disabled-fill-color);\n",
              "    box-shadow: none;\n",
              "  }\n",
              "\n",
              "  .colab-df-spinner {\n",
              "    border: 2px solid var(--fill-color);\n",
              "    border-color: transparent;\n",
              "    border-bottom-color: var(--fill-color);\n",
              "    animation:\n",
              "      spin 1s steps(1) infinite;\n",
              "  }\n",
              "\n",
              "  @keyframes spin {\n",
              "    0% {\n",
              "      border-color: transparent;\n",
              "      border-bottom-color: var(--fill-color);\n",
              "      border-left-color: var(--fill-color);\n",
              "    }\n",
              "    20% {\n",
              "      border-color: transparent;\n",
              "      border-left-color: var(--fill-color);\n",
              "      border-top-color: var(--fill-color);\n",
              "    }\n",
              "    30% {\n",
              "      border-color: transparent;\n",
              "      border-left-color: var(--fill-color);\n",
              "      border-top-color: var(--fill-color);\n",
              "      border-right-color: var(--fill-color);\n",
              "    }\n",
              "    40% {\n",
              "      border-color: transparent;\n",
              "      border-right-color: var(--fill-color);\n",
              "      border-top-color: var(--fill-color);\n",
              "    }\n",
              "    60% {\n",
              "      border-color: transparent;\n",
              "      border-right-color: var(--fill-color);\n",
              "    }\n",
              "    80% {\n",
              "      border-color: transparent;\n",
              "      border-right-color: var(--fill-color);\n",
              "      border-bottom-color: var(--fill-color);\n",
              "    }\n",
              "    90% {\n",
              "      border-color: transparent;\n",
              "      border-bottom-color: var(--fill-color);\n",
              "    }\n",
              "  }\n",
              "</style>\n",
              "\n",
              "  <script>\n",
              "    async function quickchart(key) {\n",
              "      const quickchartButtonEl =\n",
              "        document.querySelector('#' + key + ' button');\n",
              "      quickchartButtonEl.disabled = true;  // To prevent multiple clicks.\n",
              "      quickchartButtonEl.classList.add('colab-df-spinner');\n",
              "      try {\n",
              "        const charts = await google.colab.kernel.invokeFunction(\n",
              "            'suggestCharts', [key], {});\n",
              "      } catch (error) {\n",
              "        console.error('Error during call to suggestCharts:', error);\n",
              "      }\n",
              "      quickchartButtonEl.classList.remove('colab-df-spinner');\n",
              "      quickchartButtonEl.classList.add('colab-df-quickchart-complete');\n",
              "    }\n",
              "    (() => {\n",
              "      let quickchartButtonEl =\n",
              "        document.querySelector('#df-d22f2ac8-5f95-433b-8da7-87de6e520769 button');\n",
              "      quickchartButtonEl.style.display =\n",
              "        google.colab.kernel.accessAllowed ? 'block' : 'none';\n",
              "    })();\n",
              "  </script>\n",
              "</div>\n",
              "    </div>\n",
              "  </div>\n"
            ]
          },
          "metadata": {},
          "execution_count": 6
        }
      ]
    },
    {
      "cell_type": "code",
      "source": [
        "import re\n",
        "def preprocess(text):\n",
        "    text = text.lower()\n",
        "    text = re.sub(r'\\W+', ' ', text)\n",
        "    text = re.sub(r'\\d+', ' ', text)\n",
        "    text = re.sub(r'\\s+[a-z]\\s+', ' ', text)\n",
        "    text = re.sub(r'^\\s+', '', text)\n",
        "    return text\n",
        "\n",
        "df['Questions'] = df['Questions'].apply(preprocess)\n",
        "df['Jawaban'] = df['Jawaban'].apply(preprocess)"
      ],
      "metadata": {
        "id": "nX5nvaFeZMKr"
      },
      "execution_count": 8,
      "outputs": []
    },
    {
      "cell_type": "code",
      "source": [
        "tfidf = TfidfVectorizer()\n",
        "tfidf_matrix = tfidf.fit_transform(df['Questions'])"
      ],
      "metadata": {
        "id": "qnYVjt1HZQ6C"
      },
      "execution_count": 9,
      "outputs": []
    },
    {
      "cell_type": "code",
      "source": [
        "def answer_question(question):\n",
        "    processed_question = preprocess(question)\n",
        "    question_vector = tfidf.transform([processed_question])\n",
        "    similarities = cosine_similarity(question_vector, tfidf_matrix).flatten()\n",
        "    most_similar_index = similarities.argsort()[-1]\n",
        "    return df['Jawaban'].iloc[most_similar_index]"
      ],
      "metadata": {
        "id": "BjiJWE7-ZTie"
      },
      "execution_count": 10,
      "outputs": []
    },
    {
      "cell_type": "code",
      "source": [
        "eval_data = [\n",
        "    ['apa yang dimaksud dengan penyakit mental?', 'penyakit mental adalah kondisi kesehatan yang mengganggu pikiran, emosi, hubungan, dan fungsi seseorang. Mereka dikaitkan dengan kesusahan dan berkurangnya kapasitas untuk terlibat dalam kegiatan kehidupan sehari -hari yang biasa.'],\n",
        "    ['bagaimana saya tahu kalau saya tidak sehat?', 'jika keyakinan, pikiran, perasaan, atau perilaku Anda memiliki dampak yang signifikan pada kemampuan Anda untuk berfungsi dalam apa yang mungkin dianggap sebagai cara yang normal atau biasa, penting untuk mencari bantuan.'],\n",
        "    ['saya sudah dewasa dan saya pikir saya mungkin menderita adhd. Apa yang bisa saya lakukan selanjutnya?,', 'sementara kita menganggap gangguan perhatian/hiperaktif sebagai penyakit yang mempengaruhi anak-anak, itu bisa bertahan hingga dewasa-dan beberapa orang tidak didiagnosis sampai di kemudian hari.']\n",
        "]\n",
        "\n",
        "eval_df = pd.DataFrame(eval_data, columns=['Questions', 'Jawaban'])"
      ],
      "metadata": {
        "id": "1GZtTkDhZnhO"
      },
      "execution_count": 11,
      "outputs": []
    },
    {
      "cell_type": "code",
      "source": [
        "predicted_answers = []\n",
        "for question in eval_df['Questions']:\n",
        "    ans = answer_question(question)\n",
        "    predicted_answers.append(ans)\n",
        "\n",
        "eval_df['PredictedAnswers'] = predicted_answers"
      ],
      "metadata": {
        "id": "WWL-LCdCZqQU"
      },
      "execution_count": 12,
      "outputs": []
    },
    {
      "cell_type": "code",
      "source": [
        "from sklearn.metrics import accuracy_score\n",
        "\n",
        "# Calculate accuracy\n",
        "accuracy = accuracy_score(eval_df['Jawaban'], eval_df['PredictedAnswers'])\n",
        "\n",
        "# Print the accuracy\n",
        "print('Model Accuracy:', accuracy)"
      ],
      "metadata": {
        "colab": {
          "base_uri": "https://localhost:8080/"
        },
        "id": "ehvzah-9ZyVc",
        "outputId": "0a2aac77-9ec8-474b-970d-3da3326fe22e"
      },
      "execution_count": 14,
      "outputs": [
        {
          "output_type": "stream",
          "name": "stdout",
          "text": [
            "Model Accuracy: 0.0\n"
          ]
        }
      ]
    },
    {
      "cell_type": "code",
      "source": [
        "test_questions = ['Apa penyebab penyakit mental?']\n",
        "\n",
        "for question in test_questions:\n",
        "    print('Q:', question)\n",
        "    print('A:', answer_question(question))\n",
        "    print()"
      ],
      "metadata": {
        "id": "BeBAzCaSZ37S",
        "colab": {
          "base_uri": "https://localhost:8080/"
        },
        "outputId": "4708d47c-2ab4-4223-88eb-31b0f86096a7"
      },
      "execution_count": 15,
      "outputs": [
        {
          "output_type": "stream",
          "name": "stdout",
          "text": [
            "Q: Apa penyebab penyakit mental?\n",
            "A: diperkirakan bahwa penyakit mental mempengaruhi   dari   orang dewasa di amerika dan bahwa   dari   orang dewasa memiliki penyakit mental yang serius penyakit mental tidak membeda bedakan ini dapat mempengaruhi siapa pun terlepas dari jenis kelamin usia pendapatan status sosial etnis agama orientasi seksual atau latar belakang meskipun penyakit mental dapat mempengaruhi siapa pun kondisi tertentu mungkin lebih umum pada populasi yang berbeda misalnya gangguan makan cenderung terjadi lebih sering pada wanita sementara gangguan seperti defisit perhatian gangguan hiperaktif lebih lazim pada anak anak selain itu segala usia rentan tetapi yang muda dan yang tua sangat rentan penyakit mental biasanya mengejutkan individu dalam hidup mereka dengan   persen kondisi kesehatan mental berkembang pada usia   tahun hal ini membuat identifikasi dan pengobatan gangguan mental sangat sulit karena kepribadian normal dan perubahan perilaku remaja dapat menutupi gejala gejala gejala dari kondisi kesehatan mental orang tua dan pengasuh harus menyadari fakta ini dan memperhatikan perubahan suasana hati kepribadian kebiasaan pribadi dan penarikan sosial anak mereka ketika ini terjadi pada anak anak di bawah   tahun mereka disebut sebagai gangguan emosional yang serius sed \n",
            "\n"
          ]
        }
      ]
    },
    {
      "cell_type": "code",
      "source": [
        "new_questions = [\n",
        "    \"Apa yang dimaksud dengan penyakit mental?\",\n",
        "    \"Siapa yang terpengaruh oleh penyakit mental?\",\n",
        "    \"Apa penyebab penyakit mental?\",\n",
        "    \"Apa sajakah tanda-tanda peringatan penyakit mental?\",\n",
        "    \"Apakah penderita penyakit jiwa bisa sembuh?\",\n",
        "    \"Bagaimana saya tahu jika saya minum terlalu banyak bir?\",\n",
        "    \"Jika ganja berbahaya, mengapa kita melegalkannya?\",\n",
        "    \"Bagaimana cara meyakinkan anak saya untuk tidak...\",\n",
        "    \"Apa status hukum dan bukti minyak CBD?\",\n",
        "    \"Apa buktinya tentang vaping?\"\n",
        "]"
      ],
      "metadata": {
        "id": "236NaURTZ_Xb"
      },
      "execution_count": 16,
      "outputs": []
    },
    {
      "cell_type": "code",
      "source": [
        "new_predicted_answers = []\n",
        "\n",
        "# Generate predicted answers for new questions\n",
        "for q in new_questions:\n",
        "    ans = answer_question(q)\n",
        "    new_predicted_answers.append(ans)\n",
        "\n",
        "# Display the questions and predicted answers\n",
        "for i in range(len(new_questions)):\n",
        "    print('Q:', new_questions[i])\n",
        "    print('A:', new_predicted_answers[i])\n",
        "    print('=' * 50)  # Adding a separator line for clarity"
      ],
      "metadata": {
        "colab": {
          "base_uri": "https://localhost:8080/"
        },
        "id": "oSVS70gvaIqh",
        "outputId": "4dbb02ea-110c-4b57-9882-2b0af6aab65a"
      },
      "execution_count": 17,
      "outputs": [
        {
          "output_type": "stream",
          "name": "stdout",
          "text": [
            "Q: Apa yang dimaksud dengan penyakit mental?\n",
            "A: penyakit mental adalah kondisi kesehatan yang mengganggu pikiran emosi hubungan dan fungsi seseorang mereka dikaitkan dengan kesusahan dan berkurangnya kapasitas untuk terlibat dalam kegiatan kehidupan sehari hari yang biasa penyakit mental jatuh di sepanjang rangkaian keparahan beberapa cukup ringan dan hanya mengganggu beberapa aspek kehidupan seperti fobia tertentu di ujung lain spektrum terletak penyakit mental yang serius yang mengakibatkan gangguan fungsional utama dan gangguan dengan kehidupan sehari hari ini termasuk gangguan seperti depresi berat skizofrenia dan gangguan bipolar dan mungkin mengharuskan orang tersebut menerima perawatan di rumah sakit penting untuk mengetahui bahwa penyakit mental adalah kondisi medis yang tidak ada hubungannya dengan karakter kecerdasan atau kemauan seseorang sama seperti diabetes adalah kelainan pankreas penyakit mental adalah kondisi medis karena biologi otak demikian pula dengan bagaimana seseorang akan mengobati diabetes dengan obat obatan dan insulin penyakit mental dapat diobati dengan kombinasi obat dan dukungan sosial perawatan ini sangat efektif dengan     persen orang yang menerima pengobatan mengalami pengurangan gejala dan peningkatan kualitas hidup dengan perawatan yang tepat sangat mungkin bagi orang dengan penyakit mental untuk mandiri dan sukses \n",
            "==================================================\n",
            "Q: Siapa yang terpengaruh oleh penyakit mental?\n",
            "A: diperkirakan bahwa penyakit mental mempengaruhi   dari   orang dewasa di amerika dan bahwa   dari   orang dewasa memiliki penyakit mental yang serius penyakit mental tidak membeda bedakan ini dapat mempengaruhi siapa pun terlepas dari jenis kelamin usia pendapatan status sosial etnis agama orientasi seksual atau latar belakang meskipun penyakit mental dapat mempengaruhi siapa pun kondisi tertentu mungkin lebih umum pada populasi yang berbeda misalnya gangguan makan cenderung terjadi lebih sering pada wanita sementara gangguan seperti defisit perhatian gangguan hiperaktif lebih lazim pada anak anak selain itu segala usia rentan tetapi yang muda dan yang tua sangat rentan penyakit mental biasanya mengejutkan individu dalam hidup mereka dengan   persen kondisi kesehatan mental berkembang pada usia   tahun hal ini membuat identifikasi dan pengobatan gangguan mental sangat sulit karena kepribadian normal dan perubahan perilaku remaja dapat menutupi gejala gejala gejala dari kondisi kesehatan mental orang tua dan pengasuh harus menyadari fakta ini dan memperhatikan perubahan dalam suasana hati kepribadian kebiasaan pribadi dan penarikan sosial anak mereka ketika ini terjadi pada anak anak di bawah   tahun mereka disebut sebagai gangguan emosional yang serius sed \n",
            "==================================================\n",
            "Q: Apa penyebab penyakit mental?\n",
            "A: diperkirakan bahwa penyakit mental mempengaruhi   dari   orang dewasa di amerika dan bahwa   dari   orang dewasa memiliki penyakit mental yang serius penyakit mental tidak membeda bedakan ini dapat mempengaruhi siapa pun terlepas dari jenis kelamin usia pendapatan status sosial etnis agama orientasi seksual atau latar belakang meskipun penyakit mental dapat mempengaruhi siapa pun kondisi tertentu mungkin lebih umum pada populasi yang berbeda misalnya gangguan makan cenderung terjadi lebih sering pada wanita sementara gangguan seperti defisit perhatian gangguan hiperaktif lebih lazim pada anak anak selain itu segala usia rentan tetapi yang muda dan yang tua sangat rentan penyakit mental biasanya mengejutkan individu dalam hidup mereka dengan   persen kondisi kesehatan mental berkembang pada usia   tahun hal ini membuat identifikasi dan pengobatan gangguan mental sangat sulit karena kepribadian normal dan perubahan perilaku remaja dapat menutupi gejala gejala gejala dari kondisi kesehatan mental orang tua dan pengasuh harus menyadari fakta ini dan memperhatikan perubahan suasana hati kepribadian kebiasaan pribadi dan penarikan sosial anak mereka ketika ini terjadi pada anak anak di bawah   tahun mereka disebut sebagai gangguan emosional yang serius sed \n",
            "==================================================\n",
            "Q: Apa sajakah tanda-tanda peringatan penyakit mental?\n",
            "A: gejala gangguan kesehatan mental bervariasi tergantung pada jenis dan tingkat keparahan kondisi tersebut berikut ini adalah daftar gejala umum yang mungkin menunjukkan gangguan kesehatan mental terutama ketika gejala berganda diekspresikan sekaligus pada orang dewasa bingung berpikir kesedihan atau mudah marah yang tahan lama tinggi dan rendah dalam suasana hati ketakutan yang berlebihan mengkhawatirkan atau kecemasan penarikan sosial perubahan dramatis dalam kebiasaan makan atau tidur perasaan marah yang kuat delusi atau halusinasi melihat atau mendengar hal hal yang tidak benar benar ada meningkatkan ketidakmampuan untuk mengatasi masalah dan kegiatan sehari hari pikiran bunuh diri penolakan masalah yang jelas banyak masalah fisik yang tidak dapat dijelaskan penyalahgunaan narkoba dan atau alkohol pada anak yang lebih besar dan pra remaja penyalahgunaan narkoba dan atau alkohol ketidakmampuan untuk mengatasi masalah dan aktivitas sehari hari perubahan kebiasaan tidur dan atau makan keluhan masalah fisik yang berlebihan menentang otoritas melewatkan sekolah mencuri atau merusak properti ketakutan yang intens untuk menambah berat badan suasana hati negatif yang tahan lama seringkali bersama dengan nafsu makan yang buruk dan pikiran mati ledakan kemarahan yang sering pada anak kecil perubahan kinerja sekolah nilai yang buruk meskipun ada upaya kuat kekhawatiran atau kecemasan yang berlebihan hiperaktif mimpi buruk yang gigih ketidaktaatan yang terus menerus dan atau perilaku agresif tantrum temperamen yang sering terjadi\n",
            "==================================================\n",
            "Q: Apakah penderita penyakit jiwa bisa sembuh?\n",
            "A: ketika penyembuhan dari penyakit mental identifikasi dan pengobatan dini sangat penting berdasarkan sifat penyakit ada berbagai perawatan efektif yang tersedia untuk semua jenis perawatan penting bahwa orang yang terkena dampak proaktif dan sepenuhnya terlibat dalam proses pemulihan mereka sendiri banyak orang dengan penyakit mental yang didiagnosis dan dirawat merespons dengan baik meskipun beberapa mungkin mengalami kembalinya gejala bahkan dalam kasus seperti itu dengan pemantauan dan pengelolaan gangguan yang cermat masih sangat mungkin untuk menjalani kehidupan yang terpenuhi dan produktif \n",
            "==================================================\n",
            "Q: Bagaimana saya tahu jika saya minum terlalu banyak bir?\n",
            "A: menyortir jika anda minum terlalu banyak bisa rumit anda unik dan hubungan anda dengan alkohol adalah unik tidak ada yang memiliki kombinasi pengalaman hidup yang sama dan pengaruh yang anda lakukan jadi meskipun anda dan teman anda dapat memilih untuk minum bagaimana dan mengapa anda menggunakan alkohol mungkin berbeda kita yang minum mencari manfaat dari alkohol bukan kesulitan tetapi kadang kadang kita mulai menggunakan lebih banyak dan lebih sering daripada masuk akal sebagai aturan umum minum alkohol menjadi masalah ketika secara negatif mempengaruhi kehidupan kita atau kehidupan orang lain banyak orang membayangkan ini mengacu pada orang yang mengonsumsi alkohol sepanjang hari setiap hari tetapi bahkan terlalu banyak minum pada satu kesempatan dapat menyebabkan masalah misalnya membuat keputusan yang buruk seperti mengemudi saat mengalami gangguan yang juga penting untuk dikenali adalah potensi konsekuensi negatif yang terkait dengan minum dalam berbagai konteks mis tempat waktu dan kegiatan dan seiring waktu mis mengatasi masalah kronis anda bisa mendapatkan umpan balik yang dipersonalisasi terkait dengan pola minum anda dibandingkan dengan pedoman minum alkohol berisiko rendah kanada melalui aplikasi skrining pemeriksaan realitas alkohol layar pendek dan sederhana ini dapat digunakan oleh orang orang dari segala usia semua penggunaan alkohol melibatkan beberapa risiko alasan orang menggunakan alkohol dapat memengaruhi risiko terkena masalah misalnya jika seseorang menggunakan alkohol untuk meningkatkan perayaan khusus hanya penggunaan sosial sesekali yang bisa mengikuti tetapi ketika seseorang minum untuk mengatasi masalah jangka panjang seperti kecemasan sosial maka penggunaan yang lebih lama dan intens dapat terjadi dengan merenungkan pola minum anda anda dapat mengelola risiko cedera atau kematian langsung peluang anda untuk konsekuensi kesehatan jangka panjang seperti kanker atau penyakit jantung dan risiko anda mengembangkan pola kebiasaan minum yang dapat menyebabkan kerugian ini setiap kali anda memutuskan untuk minum alkohol akan sangat membantu untuk mengetahui langkah apa yang dapat anda ambil untuk memastikan bahwa perilaku minum anda adalah yang paling bermanfaat dan paling tidak berbahaya berikut ini adalah beberapa pedoman yang berguna untuk dipertimbangkan tidak terlalu banyak mengelola seberapa banyak anda minum pada kesempatan tertentu membantu mengurangi perilaku berisiko tip minum perlahan dan bergantian antara minuman non alkohol dan alkohol tidak terlalu sering minum secukupnya membantu mengurangi bahaya bagi diri kita sendiri dan orang lain dari waktu ke waktu kiat pertahankan lebih sedikit alkohol di rumah dan atur batas berapa banyak yang akan anda minum setiap minggu menghindari minum pada beberapa hari hanya dalam konteks yang aman membuat keputusan berdasarkan informasi tentang di mana anda minum membantu meminimalkan bahaya terkait alkohol kiat jika pergi ke bar tetap bersama grup dan pilih perusahaan yang menyala dan dekat opsi transportasi yang aman untuk informasi tentang opsi perawatan dan sumber daya di seluruh bc hubungi layanan rujukan informasi alkohol dan obat di         di greater vancouver hubungi       untuk lebih memahami bagaimana zat berperan dalam hidup anda kunjungi buku kerja anda dan penggunaan narkoba di situs web heretohelp institut penelitian penggunaan zat kanada sebelumnya carbc adalah anggota mitra bc untuk informasi kesehatan mental dan kecanduan institut ini didedikasikan untuk mempelajari penggunaan narkoba dalam mendukung upaya masyarakat yang bertujuan untuk memberikan semua orang akses ke kehidupan yang lebih sehat baik menggunakan zat atau tidak untuk lebih lanjut kunjungi www cisur ca \n",
            "==================================================\n",
            "Q: Jika ganja berbahaya, mengapa kita melegalkannya?\n",
            "A: asap ganja misalnya mengandung racun penyebab kanker namun risiko mengembangkan beberapa kanker mis mulut lidah dan paru paru lebih sedikit untuk perokok ganja daripada perokok tembakau sebagian karena mereka cenderung merokok kurang dari pengguna tembakau dan sementara semua obat memiliki efek pada otak sifat sifat khusus dari obat mempengaruhi tingkat risiko konsekuensi berbahaya efek negatif ganja pada otak misalnya tampaknya kurang dari efek beberapa zat seperti alkohol legalisasi ganja memberikan kesempatan untuk menerapkan peraturan untuk meminimalkan potensi bahaya bahaya membeli dan menggunakan obat ilegal adalah bahwa kita tidak akan pernah tahu pasti apa yang sebenarnya ada di dalamnya cannabis legal di kanada pada   oktober   orang dewasa lebih dari usia   tahun sekarang diizinkan memiliki hingga   gram ganja di depan umum ganja diatur oleh provinsi british columbia dan akan dijual melalui cabang distribusi minuman keras ganja akan diuji untuk kualitas ketika obat diproduksi dan diperoleh di dalam sistem yang diatur dimungkinkan bagi kita untuk mengetahui tentang isinya dan dosis dari apa yang kita ambil ini membantu kita mengelola risiko namun kemungkinan ganja masih akan tersedia di luar sistem pemerintah penting untuk diketahui bahwa kualitas ganja yang diperoleh dari dealer atau teman tidak diketahui dan mungkin mengandung kontaminan seperti jamur jamur atau pengisi yang mungkin beracun legalisasi ganja juga memberi kami lowongan untuk terlibat dalam diskusi yang jujur dan bijaksana tentang penggunaan narkoba dengan keluarga dan komunitas kami saat berhadapan dengan masalah kompleks seperti kebijakan ganja tidak ada yang memiliki semua jawaban tetapi sebagai anggota masyarakat kita semua memiliki pemikiran perasaan dan pengalaman di sekitar narkoba dan penggunaan narkoba untuk berbagi satu sama lain terlibat bersama untuk mengeksplorasi dan berbagi ide akan membantu kami menemukan cara mengelola penggunaan sebagai individu dan komunitas dengan cara yang memaksimalkan manfaat dan meminimalkan kerusakan institut penelitian penggunaan zat kanada sebelumnya carbc adalah anggota mitra bc untuk informasi kesehatan mental dan kecanduan institut ini didedikasikan untuk mempelajari penggunaan narkoba dalam mendukung upaya masyarakat yang bertujuan untuk memberikan semua orang akses ke kehidupan yang lebih sehat baik menggunakan zat atau tidak untuk lebih lanjut kunjungi www cisur ca \n",
            "==================================================\n",
            "Q: Bagaimana cara meyakinkan anak saya untuk tidak...\n",
            "A: anda tidak bisa tetapi anda dapat mempengaruhi kapasitas mereka untuk membuat pilihan yang baik di dunia di mana alkohol dan obat lain tersedia ini tentang membantu anak anda mengembangkan keterampilan untuk menilai apa yang mungkin membantu dalam mencapai tujuan mereka dalam hidup ini juga tentang menyehatkan hubungan yang mendukung jadi mereka tahu ke mana harus pergi dengan pertanyaan atau masalah membuka diskusi tentang narkoba dapat membantu memperkuat hubungan anda dengan anak anda mengundang dan membiarkan percakapan terbuka dan jujur tentang narkoba atau subjek lainnya membuat anak anda tahu bahwa apa yang mereka pikirkan rasakan dan mengalami masalah bagi anda tujuannya adalah untuk membuat anak anda berbicara dan berbagi pikiran dan perasaan mereka ketika orang orang muda ditanya pertanyaan yang bijaksana dan terbuka mengeksplorasi apa yang mereka pikirkan itu membantu mereka menjadi tertarik pada pikiran dan perilaku mereka sendiri proses refleksi diri ini adalah bagian dari pengembangan keterampilan berpikir kritis bagian dari pengambilan keputusan yang baik keterampilan berpikir kritis sebenarnya merupakan bagian penting dari mengurangi risiko yang terkait dengan penggunaan obat begitu orang orang muda mempertimbangkan sesuatu dengan hati hati mereka jauh lebih kecil kemungkinannya untuk bertindak karena impuls atau sebagai tanggapan terhadap pengaruh tidak ada aturan tentang bagaimana atau di mana percakapan tentang alkohol atau obat lain harus dimulai bahkan anak anak kecil tahu narkoba adalah bagian dari budaya kita mereka melihat orang orang minum di sekitar mereka dan terpapar narkoba di tv dan dalam iklan ini membuatnya menjadi subjek yang dapat dibesarkan secara alami sambil bersiap siap untuk perayaan keluarga di mana alkohol akan hadir atau jika anda berencana untuk mengunjungi kerabat yang menggunakan tembakau atau saat bertukar cerita di meja makan tentang apa yang terjadi di tempat kerja di tempat kerja di tempat kerja di tempat kerja di tempat kerja di tempat kerja di tempat kerja dan sekolah hari itu berbicara dengan remaja dan dewasa muda tentang narkoba saat mereka membuat pilihan di jalan menuju dewasa membantu mereka mengembangkan standar pribadi meminimalkan risiko dan menilai kepercayaan populer secara kritis tentang penggunaan narkoba ini bisa sangat penting karena mereka beralih ke usia hukum untuk menggunakan alkohol atau ganja dan pindah dari rumah keluarga sementara orang dewasa muda memiliki lebih banyak kemandirian dan lebih banyak hak hukum orang tua dapat terus menjadi papan suara yang penting untuk mencoba pemikiran dan ide mereka institut penelitian penggunaan zat kanada sebelumnya carbc adalah anggota mitra bc untuk informasi kesehatan mental dan kecanduan institut ini didedikasikan untuk mempelajari penggunaan narkoba dalam mendukung upaya masyarakat yang bertujuan untuk memberikan semua orang akses ke kehidupan yang lebih sehat baik menggunakan zat atau tidak untuk lebih lanjut kunjungi www cisur ca \n",
            "==================================================\n",
            "Q: Apa status hukum dan bukti minyak CBD?\n",
            "A: cannabidiol atau cbd adalah komponen ganja yang terjadi secara alami itu diekstraksi dari tanaman ganja dan sering dibuat menjadi minyak untuk digunakan cbd tidak psikoaktif dan tidak menghasilkan tinggi thc tetrahyrocannabinol komponen psikoaktif utama ganja cbd legal di kanada dan telah digunakan dalam perawatan berbagai kondisi medis semua cannabinoid termasuk cbd menghasilkan efek dalam tubuh dengan menempel pada reseptor tertentu di otak atau sistem kekebalan tubuh tubuh manusia juga menghasilkan cannabinoid sendiri tampaknya cbd tidak melekat langsung ke reseptor sebaliknya ia mengarahkan tubuh untuk menggunakan lebih banyak cannabinoid sendiri untuk menghasilkan efek terapeutik yang terkait dengan cbd penelitian menunjukkan bahwa cbd dapat memberikan bantuan untuk nyeri kronis sativex adalah obat eksklusif yang menggabungkan thc dan cbd dan dapat diresepkan untuk menghilangkan rasa sakit yang terkait dengan multiple sclerosis ada juga beberapa bukti yang menunjukkan bahwa cbd mungkin merupakan dukungan yang menjanjikan bagi orang dengan gangguan penggunaan opioid para peneliti mencatat bahwa cbd mengurangi beberapa gejala yang terkait dengan gangguan penggunaan zat termasuk kecemasan gejala yang berhubungan dengan suasana hati nyeri dan insomnia setelah meneliti keamanan dan efektivitas minyak cbd untuk mengobati epilepsi pada tahun   fda amerika serikat menyetujui cbd epidiolex sebagai terapi untuk dua kondisi langka yang ditandai dengan kejang epilepsi bukti lain menunjukkan bahwa cbd mungkin berguna dalam pengobatan skizofrenia meskipun diperlukan penelitian lebih lanjut sebelum memasukkan cbd ke dalam praktik medis ada beberapa bukti awal bahwa cbd dapat membantu orang pada tahap awal penyakit alzheimer menjaga kemampuan untuk mengenali wajah orang yang mereka kenal dan dengan demikian lambat perkembangan penyakit sekali lagi diperlukan lebih banyak penelitian di bidang ini karena cara ganja dan produknya dimetabolisme para ilmuwan percaya ada potensi interaksi dengan obat lain meskipun belum ada yang signifikan yang dicatat cbd telah ditemukan secara umum aman laporan dari pasien menunjukkan bahwa interaksi obat negatif tidak umum seperti halnya perawatan lainnya penting untuk memantau penggunaan cbd anda dan mencari bantuan jika anda mengalami masalah atau memiliki pertanyaan atau masalah tentang penggunaannya institut penelitian penggunaan zat kanada sebelumnya carbc adalah anggota mitra bc untuk informasi kesehatan mental dan kecanduan institut ini didedikasikan untuk mempelajari penggunaan narkoba dalam mendukung upaya masyarakat yang bertujuan untuk memberikan semua orang akses ke kehidupan yang lebih sehat baik menggunakan zat atau tidak untuk lebih lanjut kunjungi www cisur ca \n",
            "==================================================\n",
            "Q: Apa buktinya tentang vaping?\n",
            "A: vaping adalah istilah untuk menggunakan perangkat di mana cairan sering dibumbui diubah menjadi uap karenanya vaping dan dihirup perangkat vaping terdiri dari corong tangki atau reservoir untuk menahan cairan elemen pemanas dan baterai untuk memberi daya elemen cairan dipanaskan untuk menjadi kabut dihirup melalui mulut ke paru paru di mana nikotin atau ganja memasuki aliran darah setiap uap residu dihembuskan perangkat vaping datang dalam beberapa jenis bentuk dan ukuran disebut sebagai rokok elektronik pena vape vape mod tangki atau hookah cairan vaping liquid jus terdiri dari pelarut biasanya propilen glikol atau gliserol rasa dan nikotin atau ganja meskipun mungkin tidak mengandung apa pun di british columbia anda harus berusia   tahun untuk membeli produk vaping jumlah anak muda yang merokok telah menurun selama beberapa tahun terakhir sementara vaping telah meningkat rokok dikembangkan sebagai alternatif untuk merokok perangkat pertama tersedia pada tahun   dan tampak seperti rokok tradisional uap nikotin mengandung racun dan partikel lain yang jauh lebih sedikit daripada asap dari rokok vaping adalah alternatif yang kurang berbahaya bagi rokok dan bukti menunjukkan ini dapat membantu beberapa orang berhenti merokok bukti menunjukkan vaping kemungkinan bukan pintu gerbang untuk merokok tembakau meskipun kurang berbahaya daripada merokok vaping masih membawa potensi bahaya ada paparan kecil nikotin dan kemungkinan karsinogen dalam uap karsinogen adalah zat yang berpotensi menyebabkan kanker beberapa bukti menunjukkan bahwa anak muda mungkin tidak menyadari cairan vaping sering mengandung nikotin rokok tidak dikendalikan dan kandungan nikotin cairan vaping bervariasi secara signifikan di antara merek bahan kimia lain perasa dan logam berat hadir dalam cairan vaping belum dipelajari dengan baik risiko kesehatan jangka panjang dari vaping tidak ditentukan diperlukan lebih banyak penelitian di bidang ini strategi pemasaran untuk produk vaping seringkali di media sosial dirancang untuk menarik bagi kaum muda berbagai rasa yang tersedia terutama yang buah buahan dan manis dan tampilan dan nuansa perangkat vaping menarik kaum muda kaum muda dapat melihat vaping sebagai hal yang menyenangkan dan cara untuk bersosialisasi dengan teman teman dan merokok dengan cara yang kurang berbahaya membuat waktu dan ruang untuk diskusi dan mengeksplorasi isu isu seputar vaping adalah salah satu cara penting kita dapat mendukung kaum muda dan memang satu sama lain dalam membuat keputusan yang baik tentang jika kapan atau berapa banyak untuk vape kami menawarkan tidak terlalu banyak tidak terlalu sering dan dalam konteks yang aman sebagai salah satu cara untuk berpikir tentang menggunakan zat apa pun apa artinya ini bagi anda mungkin tempat untuk berbicara untuk memulai institut penelitian penggunaan zat kanada sebelumnya carbc adalah anggota mitra bc untuk informasi kesehatan mental dan kecanduan institut ini didedikasikan untuk mempelajari penggunaan narkoba dalam mendukung upaya masyarakat yang bertujuan untuk memberikan semua orang akses ke kehidupan yang lebih sehat baik menggunakan zat atau tidak untuk lebih lanjut kunjungi www cisur ca \n",
            "==================================================\n"
          ]
        }
      ]
    },
    {
      "cell_type": "code",
      "source": [
        "import csv\n",
        "\n",
        "# Pertanyaan dan jawaban prediksi\n",
        "questions = new_questions\n",
        "predicted_answers = new_predicted_answers\n",
        "\n",
        "# Buat file CSV baru\n",
        "with open('prediksi_baru.csv', 'w', newline='') as file:\n",
        "    writer = csv.writer(file)\n",
        "\n",
        "    # Tulis header kolom\n",
        "    writer.writerow(['Pertanyaan', 'Jawaban'])\n",
        "\n",
        "    # Tulis masing-masing pertanyaan dan jawaban prediksi ke baris csv\n",
        "    for i in range(len(questions)):\n",
        "        row = [questions[i], predicted_answers[i]]\n",
        "        writer.writerow(row)\n",
        "\n",
        "print(\"Hasil prediksi baru berhasil diekspor ke dalam prediksi_baru.csv\")"
      ],
      "metadata": {
        "id": "yzOmwFC3aV9P",
        "colab": {
          "base_uri": "https://localhost:8080/"
        },
        "outputId": "0ca5abe1-d704-422e-99d5-3b302081345b"
      },
      "execution_count": 18,
      "outputs": [
        {
          "output_type": "stream",
          "name": "stdout",
          "text": [
            "Hasil prediksi baru berhasil diekspor ke dalam prediksi_baru.csv\n"
          ]
        }
      ]
    }
  ]
}