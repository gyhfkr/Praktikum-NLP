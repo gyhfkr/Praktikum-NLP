{
  "nbformat": 4,
  "nbformat_minor": 0,
  "metadata": {
    "colab": {
      "provenance": []
    },
    "kernelspec": {
      "name": "python3",
      "display_name": "Python 3"
    },
    "language_info": {
      "name": "python"
    }
  },
  "cells": [
    {
      "cell_type": "code",
      "execution_count": 1,
      "metadata": {
        "colab": {
          "base_uri": "https://localhost:8080/"
        },
        "id": "x3hgh4P9GndN",
        "outputId": "b8553342-3da5-440a-d3a8-c0d80d25e4f9"
      },
      "outputs": [
        {
          "output_type": "stream",
          "name": "stdout",
          "text": [
            "Collecting Faker\n",
            "  Downloading Faker-19.10.0-py3-none-any.whl (1.7 MB)\n",
            "\u001b[2K     \u001b[90m━━━━━━━━━━━━━━━━━━━━━━━━━━━━━━━━━━━━━━━━\u001b[0m \u001b[32m1.7/1.7 MB\u001b[0m \u001b[31m22.7 MB/s\u001b[0m eta \u001b[36m0:00:00\u001b[0m\n",
            "\u001b[?25hRequirement already satisfied: python-dateutil>=2.4 in /usr/local/lib/python3.10/dist-packages (from Faker) (2.8.2)\n",
            "Requirement already satisfied: six>=1.5 in /usr/local/lib/python3.10/dist-packages (from python-dateutil>=2.4->Faker) (1.16.0)\n",
            "Installing collected packages: Faker\n",
            "Successfully installed Faker-19.10.0\n"
          ]
        }
      ],
      "source": [
        "pip install Faker"
      ]
    },
    {
      "cell_type": "code",
      "source": [
        "import re\n",
        "from faker import Faker\n",
        "import pandas as pd"
      ],
      "metadata": {
        "id": "u1Xa9IKlnIoE"
      },
      "execution_count": 2,
      "outputs": []
    },
    {
      "cell_type": "code",
      "source": [
        "fake = Faker()\n",
        "\n",
        "jumlah_data = 50\n",
        "dummy_data = []"
      ],
      "metadata": {
        "id": "ZVD72Hu1nJBn"
      },
      "execution_count": 3,
      "outputs": []
    },
    {
      "cell_type": "code",
      "source": [
        "def remove_punctuation(text):\n",
        "    return re.sub(r'[^\\d]+', '', text)\n",
        "\n",
        "for _ in range(jumlah_data):\n",
        "    nama = fake.name()\n",
        "    email = fake.email()\n",
        "    alamat = fake.address()\n",
        "    nomor = fake.phone_number()\n",
        "    nomor = remove_punctuation(nomor)\n",
        "    data = f\"Nama: {nama}\\nAlamat Email: {email}\\nNomor Telepon: {nomor}\\nAlamat Rumah: {alamat}\\n\"\n",
        "    dummy_data.append(data)\n",
        "\n",
        "file_name = 'dataregex.txt'\n",
        "with open(file_name, 'w') as file:\n",
        "    for data in dummy_data:\n",
        "        file.write(data + \"\\n\")\n",
        "\n",
        "email_pattern = r'\\b[A-Za-z0-9._%+-]+@[A-Za-z0-9.-]+\\.[A-Z|a-z]{2,7}\\b'\n",
        "phone_pattern = r'\\d{9,17}'\n",
        "\n",
        "with open(file_name, 'r') as file:\n",
        "    data = file.read()\n",
        "\n",
        "phone_matches = re.findall(phone_pattern, data)\n",
        "email_matches = re.findall(email_pattern, data)"
      ],
      "metadata": {
        "id": "2CYcuJzDnL0y"
      },
      "execution_count": 4,
      "outputs": []
    },
    {
      "cell_type": "code",
      "source": [
        "data_dict = {'Email': email_matches, 'Phone': phone_matches}\n",
        "df = pd.DataFrame(data_dict)"
      ],
      "metadata": {
        "id": "eliSbtBIno_R"
      },
      "execution_count": 5,
      "outputs": []
    },
    {
      "cell_type": "code",
      "source": [
        "print(df)"
      ],
      "metadata": {
        "colab": {
          "base_uri": "https://localhost:8080/"
        },
        "id": "t9c9B6MQnbWO",
        "outputId": "549ded78-4e47-4a96-85d0-a965d96088f7"
      },
      "execution_count": 6,
      "outputs": [
        {
          "output_type": "stream",
          "name": "stdout",
          "text": [
            "                             Email              Phone\n",
            "0    jeffersonmichelle@example.net    655849366801906\n",
            "1              pcampos@example.com    517455936214231\n",
            "2      sheilamiddleton@example.org  00163131999714985\n",
            "3              kelly39@example.com    319543818649267\n",
            "4      victoriamcclure@example.net      4637769080040\n",
            "5          elizabeth16@example.net      5483638315306\n",
            "6             wbradley@example.net      9858481854911\n",
            "7      williamscrystal@example.org         6062098336\n",
            "8        jonesstefanie@example.org   1986899194351033\n",
            "9          duncanamber@example.com    313268285204554\n",
            "10              jill17@example.net      6645844864087\n",
            "11           lindsey99@example.org     15684066648511\n",
            "12         derekmartin@example.com         6767102365\n",
            "13     reynoldsmichael@example.net  00170743987507191\n",
            "14             laura98@example.net     24469055564237\n",
            "15           jessica22@example.net      5342074630145\n",
            "16      samanthamoreno@example.net        15894633921\n",
            "17          jasonscott@example.org   0017352750610348\n",
            "18          rubenberry@example.org         4274767280\n",
            "19           yfranklin@example.net    263826362766106\n",
            "20        andersonryan@example.com         2564898310\n",
            "21     hillchristopher@example.org  00175794445353073\n",
            "22              lwhite@example.com     92625549353467\n",
            "23              lori96@example.com      0014327685335\n",
            "24  katherinedavenport@example.com      5066414982818\n",
            "25        doughertyamy@example.com     94141272349463\n",
            "26     johnsonkristina@example.org   0018816714073827\n",
            "27      petersonsamuel@example.net     70845366178595\n",
            "28        alyssadennis@example.org         3302408523\n",
            "29              broach@example.org   0012114160517934\n",
            "30       gregorybecker@example.com      5853479613060\n",
            "31              jack86@example.com      9917271652269\n",
            "32              dana45@example.net         8145172902\n",
            "33           jeffrey22@example.com   0014222721589214\n",
            "34             aimee98@example.com    919853339229888\n",
            "35           rhamilton@example.com         5356819932\n",
            "36            kjohnson@example.net         2572606782\n",
            "37           debrahuff@example.net      7016778065356\n",
            "38       michaelflores@example.com         6345358557\n",
            "39      alanvillanueva@example.net     28944411596809\n",
            "40      espinozathomas@example.com    191751940331835\n",
            "41            willie11@example.net         4358252713\n",
            "42         whitenorman@example.net         9168483229\n",
            "43           matthew48@example.org      7944829829317\n",
            "44            balljill@example.net         8343871401\n",
            "45       josephballard@example.com      0016446606911\n",
            "46         smallalyssa@example.org  00126628937547812\n",
            "47            robert05@example.net         7972220524\n",
            "48              kfloyd@example.org    977602662569479\n",
            "49              whuber@example.net         6394809648\n"
          ]
        }
      ]
    }
  ]
}